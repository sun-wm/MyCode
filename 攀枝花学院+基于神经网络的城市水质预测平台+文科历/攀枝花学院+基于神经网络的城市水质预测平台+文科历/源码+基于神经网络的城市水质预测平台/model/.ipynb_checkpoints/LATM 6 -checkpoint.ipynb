{
 "cells": [
  {
   "cell_type": "code",
   "execution_count": 1,
   "metadata": {},
   "outputs": [],
   "source": [
    "import pandas as pd\n",
    "import tensorflow as tf\n",
    "import numpy as np\n",
    "import matplotlib.pyplot as plt\n",
    "from sklearn.preprocessing import MinMaxScaler\n",
    "from keras.layers import Dense,LSTM,Dropout\n",
    "from keras.models import Sequential\n",
    "from keras.optimizers import Adam"
   ]
  },
  {
   "cell_type": "code",
   "execution_count": 2,
   "metadata": {
    "tags": []
   },
   "outputs": [],
   "source": [
    "data = pd.read_excel('10.xls',sheet_name=\"监测数据报表\",skiprows=2,parse_dates=['监测时间'],engine='openpyxl')  #读取excel表"
   ]
  },
  {
   "cell_type": "code",
   "execution_count": 3,
   "metadata": {},
   "outputs": [],
   "source": [
    "data.drop(['备注','污水排口监控点排放量(吨)','Unnamed: 6','Unnamed: 7','Unnamed: 8','Unnamed: 9'],axis=1,inplace=True)   #删除NaN列\n",
    "data.drop(0,inplace=True)  "
   ]
  },
  {
   "cell_type": "code",
   "execution_count": 4,
   "metadata": {},
   "outputs": [],
   "source": [
    "data = data.set_index(['监测时间'])"
   ]
  },
  {
   "cell_type": "code",
   "execution_count": 5,
   "metadata": {},
   "outputs": [],
   "source": [
    "data.drop(index=(data.loc[(data['PH值']=='停运')].index),inplace=True)"
   ]
  },
  {
   "cell_type": "code",
   "execution_count": 6,
   "metadata": {},
   "outputs": [],
   "source": [
    "#显示函数\n",
    "#解决中文显示问题\n",
    "plt.rcParams['font.sans-serif']=['SimHei']\n",
    "plt.rcParams['axes.unicode_minus'] = False\n",
    "def plot_data(test_result,predict_result):\n",
    "    \"\"\"\n",
    "    test_result:真实值\n",
    "    predict_result:预测值\n",
    "    \"\"\"\n",
    "    plt.plot(test_result,color ='red',label = 'water element true value')\n",
    "    plt.plot(predict_result,color ='blue',label = 'water element predicted value')\n",
    "    plt.title(\"water element values\")\n",
    "    plt.xlabel(\"time\")\n",
    "    plt.ylabel(\"element values\")\n",
    "    plt.legend()\n",
    "    plt.show()\n",
    "data['化学需氧量(COD)(毫克/升)'] = data['化学需氧量(COD)(毫克/升)'].astype('float')\n",
    "data['氨氮(毫克/升)'] = data['氨氮(毫克/升)'].astype('float')\n",
    "data['PH值'] = data['PH值'].astype('float')\n"
   ]
  },
  {
   "cell_type": "code",
   "execution_count": 7,
   "metadata": {},
   "outputs": [],
   "source": [
    "train_set = data[:'2020-06'].iloc[:,[1]].values\n",
    "test_set = data['2020-07':].iloc[:,[1]].values"
   ]
  },
  {
   "cell_type": "code",
   "execution_count": 8,
   "metadata": {},
   "outputs": [],
   "source": [
    "#正则化【0，1】\n",
    "sc = MinMaxScaler(feature_range=[0,1])\n",
    "train_set_scaled = sc.fit_transform(train_set)"
   ]
  },
  {
   "cell_type": "code",
   "execution_count": 9,
   "metadata": {},
   "outputs": [],
   "source": [
    "#创建序列测试集\n",
    "#720个时间步为一个样本，一个输出\n",
    "#构造X_text,预测\n",
    "train_set = sc.transform(data[:'2020-06'].iloc[:,[1]].values)\n",
    "test_set = sc.transform(data['2020-07':].iloc[:,[1]].values)\n",
    "\n",
    "def create_data(dataset, look_back):\n",
    "    X_train, Y_train = [], []\n",
    "    for i in range(len(dataset)-look_back):\n",
    "        X_train.append(dataset[i:(i+look_back)])\n",
    "        Y_train.append(dataset[look_back+i:look_back+i+1])\n",
    "    return np.array(X_train),np.array(Y_train)\n",
    "look_back = 168\n",
    "X_train,Y_train  = create_data(train_set,look_back)\n",
    "X_test,Y_test = create_data(test_set,look_back)"
   ]
  },
  {
   "cell_type": "code",
   "execution_count": 10,
   "metadata": {},
   "outputs": [],
   "source": [
    "model = Sequential()\n",
    "model.add(LSTM(128,return_sequences=True,input_shape=(X_train.shape[1],1)))\n",
    "model.add(Dropout(0.3))\n",
    "\n",
    "model.add(LSTM(128,return_sequences=True))\n",
    "model.add(Dropout(0.3))\n",
    "\n",
    "model.add(LSTM(128))\n",
    "model.add(Dropout(0.3))\n",
    "\n",
    "model.add(Dense(units=1))"
   ]
  },
  {
   "cell_type": "code",
   "execution_count": 12,
   "metadata": {
    "tags": []
   },
   "outputs": [
    {
     "name": "stdout",
     "output_type": "stream",
     "text": [
      "Epoch 1/20\n",
      "120/120 [==============================] - 37s 270ms/step - loss: 0.0029 - mse: 0.0029 - mae: 0.0332 - val_loss: 5.5415e-04 - val_mse: 5.5415e-04 - val_mae: 0.0143\n",
      "Epoch 2/20\n",
      "120/120 [==============================] - 39s 325ms/step - loss: 0.0033 - mse: 0.0033 - mae: 0.0362 - val_loss: 4.5168e-04 - val_mse: 4.5168e-04 - val_mae: 0.0087\n",
      "Epoch 3/20\n",
      "120/120 [==============================] - 40s 331ms/step - loss: 0.0028 - mse: 0.0028 - mae: 0.0323 - val_loss: 4.7556e-04 - val_mse: 4.7556e-04 - val_mae: 0.0090\n",
      "Epoch 4/20\n",
      "120/120 [==============================] - 39s 328ms/step - loss: 0.0031 - mse: 0.0031 - mae: 0.0344 - val_loss: 4.7724e-04 - val_mse: 4.7724e-04 - val_mae: 0.0102\n",
      "Epoch 5/20\n",
      "120/120 [==============================] - 39s 322ms/step - loss: 0.0030 - mse: 0.0030 - mae: 0.0320 - val_loss: 4.3034e-04 - val_mse: 4.3034e-04 - val_mae: 0.0075\n",
      "Epoch 6/20\n",
      "120/120 [==============================] - 40s 330ms/step - loss: 0.0030 - mse: 0.0030 - mae: 0.0319 - val_loss: 4.5189e-04 - val_mse: 4.5189e-04 - val_mae: 0.0080\n",
      "Epoch 7/20\n",
      "120/120 [==============================] - 39s 325ms/step - loss: 0.0027 - mse: 0.0027 - mae: 0.0319 - val_loss: 5.5604e-04 - val_mse: 5.5604e-04 - val_mae: 0.0132\n",
      "Epoch 8/20\n",
      "120/120 [==============================] - 39s 329ms/step - loss: 0.0029 - mse: 0.0029 - mae: 0.0332 - val_loss: 4.4049e-04 - val_mse: 4.4049e-04 - val_mae: 0.0085\n",
      "Epoch 9/20\n",
      "120/120 [==============================] - 39s 329ms/step - loss: 0.0028 - mse: 0.0028 - mae: 0.0316 - val_loss: 4.3565e-04 - val_mse: 4.3565e-04 - val_mae: 0.0090\n",
      "Epoch 10/20\n",
      "120/120 [==============================] - 39s 322ms/step - loss: 0.0024 - mse: 0.0024 - mae: 0.0300 - val_loss: 4.5024e-04 - val_mse: 4.5024e-04 - val_mae: 0.0085\n",
      "Epoch 11/20\n",
      "120/120 [==============================] - 40s 337ms/step - loss: 0.0026 - mse: 0.0026 - mae: 0.0308 - val_loss: 5.0051e-04 - val_mse: 5.0051e-04 - val_mae: 0.0112\n",
      "Epoch 12/20\n",
      "120/120 [==============================] - 40s 335ms/step - loss: 0.0029 - mse: 0.0029 - mae: 0.0312 - val_loss: 4.3021e-04 - val_mse: 4.3021e-04 - val_mae: 0.0077\n",
      "Epoch 13/20\n",
      "120/120 [==============================] - 40s 331ms/step - loss: 0.0030 - mse: 0.0030 - mae: 0.0313 - val_loss: 4.7157e-04 - val_mse: 4.7157e-04 - val_mae: 0.0096\n",
      "Epoch 14/20\n",
      "120/120 [==============================] - 40s 331ms/step - loss: 0.0028 - mse: 0.0028 - mae: 0.0311 - val_loss: 4.5260e-04 - val_mse: 4.5260e-04 - val_mae: 0.0089\n",
      "Epoch 15/20\n",
      "120/120 [==============================] - 39s 327ms/step - loss: 0.0029 - mse: 0.0029 - mae: 0.0315 - val_loss: 4.7919e-04 - val_mse: 4.7919e-04 - val_mae: 0.0101\n",
      "Epoch 16/20\n",
      "120/120 [==============================] - 39s 327ms/step - loss: 0.0026 - mse: 0.0026 - mae: 0.0305 - val_loss: 4.3694e-04 - val_mse: 4.3694e-04 - val_mae: 0.0080\n",
      "Epoch 17/20\n",
      "120/120 [==============================] - 39s 325ms/step - loss: 0.0026 - mse: 0.0026 - mae: 0.0301 - val_loss: 4.9627e-04 - val_mse: 4.9627e-04 - val_mae: 0.0104\n",
      "Epoch 18/20\n",
      "120/120 [==============================] - 40s 330ms/step - loss: 0.0026 - mse: 0.0026 - mae: 0.0302 - val_loss: 6.4144e-04 - val_mse: 6.4144e-04 - val_mae: 0.0180\n",
      "Epoch 19/20\n",
      "120/120 [==============================] - 40s 330ms/step - loss: 0.0031 - mse: 0.0031 - mae: 0.0327 - val_loss: 4.6225e-04 - val_mse: 4.6225e-04 - val_mae: 0.0093\n",
      "Epoch 20/20\n",
      "120/120 [==============================] - 39s 325ms/step - loss: 0.0027 - mse: 0.0027 - mae: 0.0310 - val_loss: 7.8317e-04 - val_mse: 7.8317e-04 - val_mae: 0.0221\n"
     ]
    },
    {
     "data": {
      "text/plain": [
       "<tensorflow.python.keras.callbacks.History at 0x22312aa1400>"
      ]
     },
     "execution_count": 12,
     "metadata": {},
     "output_type": "execute_result"
    }
   ],
   "source": [
    "model.compile(optimizer = 'adam',loss ='mse', metrics=['mse', 'mae'])#\n",
    "\n",
    "model.fit(X_train,Y_train,epochs=20,verbose=1,validation_data=(X_test,Y_test))"
   ]
  },
  {
   "cell_type": "code",
   "execution_count": 18,
   "metadata": {},
   "outputs": [],
   "source": [
    "predict = model.predict(X_test) "
   ]
  },
  {
   "cell_type": "code",
   "execution_count": 19,
   "metadata": {
    "tags": []
   },
   "outputs": [
    {
     "data": {
      "text/plain": [
       "array([[41.331776 ],\n",
       "       [28.779352 ],\n",
       "       [35.18508  ],\n",
       "       ...,\n",
       "       [ 8.5259075],\n",
       "       [ 8.564538 ],\n",
       "       [39.294262 ]], dtype=float32)"
      ]
     },
     "execution_count": 19,
     "metadata": {},
     "output_type": "execute_result"
    }
   ],
   "source": [
    "#反归一化\n",
    "predict_result = sc.inverse_transform(predict)\n",
    "predict_result"
   ]
  },
  {
   "cell_type": "code",
   "execution_count": 28,
   "metadata": {},
   "outputs": [
    {
     "data": {
      "image/png": "[encoded data removed]",
      "text/plain": [
       "<Figure size 432x288 with 1 Axes>"
      ]
     },
     "metadata": {
      "needs_background": "light"
     },
     "output_type": "display_data"
    }
   ],
   "source": [
    "\n",
    "plot_data(np.array(test_set),np.array(predict_result))"
   ]
  },
  {
   "cell_type": "code",
   "execution_count": null,
   "metadata": {},
   "outputs": [],
   "source": [
    "model.save(\"my_model1\")"
   ]
  },
  {
   "cell_type": "code",
   "execution_count": null,
   "metadata": {},
   "outputs": [],
   "source": []
  },
  {
   "cell_type": "code",
   "execution_count": null,
   "metadata": {},
   "outputs": [],
   "source": []
  },
  {
   "cell_type": "code",
   "execution_count": null,
   "metadata": {},
   "outputs": [],
   "source": []
  }
 ],
 "metadata": {
  "kernelspec": {
   "display_name": "Python 3",
   "language": "python",
   "name": "python3"
  },
  "language_info": {
   "codemirror_mode": {
    "name": "ipython",
    "version": 3
   },
   "file_extension": ".py",
   "mimetype": "text/x-python",
   "name": "python",
   "nbconvert_exporter": "python",
   "pygments_lexer": "ipython3",
   "version": "3.6.5"
  }
 },
 "nbformat": 4,
 "nbformat_minor": 5
}
